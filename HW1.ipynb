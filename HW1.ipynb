{
 "cells": [
  {
   "cell_type": "code",
   "execution_count": 1,
   "id": "605b5f5f",
   "metadata": {},
   "outputs": [],
   "source": [
    "import numpy as np\n",
    "import random\n",
    "import matplotlib.pyplot as plt\n",
    "import urllib\n",
    "import json\n",
    "import os\n",
    "os.environ['PROJ_LIB'] = r'C:\\Users\\XXXXX\\Anaconda3\\pkgs\\proj4-5.2.0- ha925a31_1\\Library\\share'\n",
    "from mpl_toolkits.basemap import Basemap"
   ]
  },
  {
   "cell_type": "markdown",
   "id": "d1123644",
   "metadata": {},
   "source": [
    "Question 1"
   ]
  },
  {
   "cell_type": "code",
   "execution_count": 2,
   "id": "014c8a6d",
   "metadata": {
    "scrolled": true
   },
   "outputs": [],
   "source": [
    "def f(i):\n",
    "    global fn\n",
    "    return(eval(fn))\n",
    "\n",
    "\n",
    "def riemann_sum(a,b,n,fn):\n",
    "    sum=0\n",
    "    n_array=np.linspace(a,b,n)\n",
    "    for x in n_array:\n",
    "        sum+=eval(fn)*(b-a)/n\n",
    "    return sum"
   ]
  },
  {
   "cell_type": "markdown",
   "id": "201157f1",
   "metadata": {},
   "source": [
    "Question 2"
   ]
  },
  {
   "cell_type": "code",
   "execution_count": 3,
   "id": "bdba389a",
   "metadata": {},
   "outputs": [],
   "source": [
    "def unit_circle(N):\n",
    "    N_return=[]\n",
    "    for i in range(N):\n",
    "        x=random.uniform(-1,1)\n",
    "        pm=random.randint(0,1)\n",
    "        if pm==0:\n",
    "            y=(-1)*np.sqrt(1-x**2)\n",
    "        else:\n",
    "            y=np.sqrt(1-x**2)\n",
    "        N_return.append([x,y])\n",
    "    return N_return\n",
    "\n",
    "\n",
    "def visual(points):\n",
    "    x_coordinates=[]\n",
    "    y_coordinates=[]\n",
    "    for i in points:\n",
    "        plt.scatter(i[0],i[1])\n",
    "    plt.show()"
   ]
  },
  {
   "cell_type": "markdown",
   "id": "086d0084",
   "metadata": {},
   "source": [
    "Question 3"
   ]
  },
  {
   "cell_type": "code",
   "execution_count": 4,
   "id": "39a6c5cb",
   "metadata": {},
   "outputs": [],
   "source": [
    "def unit_circle_3d(N):\n",
    "    N_return=[]\n",
    "    for i in range(N):\n",
    "        r=random.uniform(-1,1)\n",
    "        theta=random.randint(0,360)\n",
    "        x=r*np.cos(np.radians(theta))\n",
    "        y=r*np.sin(np.radians(theta))\n",
    "        pm=random.randint(0,1)\n",
    "        if pm==0:\n",
    "            z=(-1)*np.sqrt(1-r**2)\n",
    "        else:\n",
    "            z=np.sqrt(1-r**2)\n",
    "        N_return.append([x,y,z])\n",
    "    return N_return\n",
    "\n",
    "\n",
    "def visual_3d(points):\n",
    "    fig = plt.figure(figsize=(5, 5))\n",
    "    ax = fig.add_subplot(projection='3d')\n",
    "    x_coordinates=[]\n",
    "    y_coordinates=[]\n",
    "    z_coordinates=[]\n",
    "    for i in points:\n",
    "        ax.scatter(i[0],i[1],i[2])\n",
    "    plt.show()"
   ]
  },
  {
   "cell_type": "markdown",
   "id": "e5d66b43",
   "metadata": {},
   "source": [
    "Question 4"
   ]
  },
  {
   "cell_type": "code",
   "execution_count": 5,
   "id": "5345e947",
   "metadata": {},
   "outputs": [],
   "source": [
    "def unit_circle_high_order(N,dimension):\n",
    "    N_return=[]\n",
    "    for i in range(N):\n",
    "        N_return=[]\n",
    "        for i in range(N):\n",
    "            numbers=[]\n",
    "            counter=0\n",
    "            for j in range(dimension):\n",
    "                counter+=1\n",
    "                bound=0\n",
    "                for k in numbers:\n",
    "                    bound+=k**2    \n",
    "                if counter==dimension:\n",
    "                    number=np.sqrt(1-bound)\n",
    "                else:\n",
    "                    number=random.uniform(-1+bound,1-bound)**2\n",
    "                pm=random.randint(0,1)\n",
    "                if pm==0:\n",
    "                    number=(-1)*number\n",
    "                numbers.append(number)\n",
    "            N_return.append(numbers)\n",
    "    return N_return"
   ]
  },
  {
   "cell_type": "markdown",
   "id": "9a931b99",
   "metadata": {},
   "source": [
    "Question 5"
   ]
  },
  {
   "cell_type": "code",
   "execution_count": 6,
   "id": "a38cd39e",
   "metadata": {},
   "outputs": [],
   "source": [
    "def stop():\n",
    "    with urllib.request.urlopen(\"https://data.ibb.gov.tr/api/3/action/datastore_search?resource_id=d1f7c258-bbc1-406f-9ab2-7a7c1797c673&limit=100\") as url:\n",
    "        source = url.read()\n",
    "        json_read=json.loads(source)\n",
    "        stop=[]\n",
    "        for i in json_read['result']['records']:\n",
    "            stop_id=i['stop_id']\n",
    "            stop_lat=i['stop_lat']\n",
    "            stop_lon=i['stop_lon']\n",
    "            stop.append([stop_id,stop_lat,stop_lon])\n",
    "    return stop"
   ]
  },
  {
   "cell_type": "markdown",
   "id": "fcf4d8cf",
   "metadata": {},
   "source": [
    "Yukarıdaki kodda verileri urllib requesti ile çağırıp json kütüphanesi ile işlenebilir hale getiriyorum.\n",
    "Daha sonra elde ettiğim sözlükteki duraklara ait id,enlem ve boylam bilgilirini alıp stop arrayine atıyorum"
   ]
  },
  {
   "cell_type": "code",
   "execution_count": 7,
   "id": "eed94b60",
   "metadata": {},
   "outputs": [
    {
     "data": {
      "image/png": "[encoded data removed]",
      "text/plain": [
       "<Figure size 720x720 with 1 Axes>"
      ]
     },
     "metadata": {},
     "output_type": "display_data"
    }
   ],
   "source": [
    "plt.figure(figsize=(10,10))\n",
    "m = Basemap(projection='cyl',llcrnrlat=40.8,urcrnrlat=41.4,\\\n",
    "        llcrnrlon=28.45,urcrnrlon=29.5,resolution='h')\n",
    "\n",
    "for i in stop():\n",
    "    lon, lat = float(i[2]),float(i[1])\n",
    "    xpt,ypt = m(lon,lat)\n",
    "    lonpt, latpt = m(xpt,ypt,inverse=True)\n",
    "    m.plot(xpt,ypt,'bo')\n",
    "m.drawcoastlines()\n",
    "plt.show()"
   ]
  },
  {
   "cell_type": "markdown",
   "id": "647894ab",
   "metadata": {},
   "source": [
    "Ödevi daha dün gördüğüm için basemap kütüphanesini çok öğrenemedim. Tüm duraklar belli olmayacağından sadece elli tanesini ekledim. \"stop\" fonksiyonunda aldığım bilgileri tekrardan ayırıp enlem ve boylam olarak girdim."
   ]
  }
 ],
 "metadata": {
  "kernelspec": {
   "display_name": "Python 3 (ipykernel)",
   "language": "python",
   "name": "python3"
  },
  "language_info": {
   "codemirror_mode": {
    "name": "ipython",
    "version": 3
   },
   "file_extension": ".py",
   "mimetype": "text/x-python",
   "name": "python",
   "nbconvert_exporter": "python",
   "pygments_lexer": "ipython3",
   "version": "3.9.7"
  }
 },
 "nbformat": 4,
 "nbformat_minor": 5
}
